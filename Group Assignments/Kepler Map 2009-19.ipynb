{
 "cells": [
  {
   "cell_type": "markdown",
   "id": "a8947ef8-d7d9-41eb-a0d6-40351a308926",
   "metadata": {},
   "source": [
    "# Kepler Map of 311 Service Requests in 2009 & 2019\n",
    "\n",
    "### I am going to import datasets from the last few notebooks that Nick and I worked on, and see simply what the 3D version of things look like when we're just looking at quantities of 311 service requests."
   ]
  },
  {
   "cell_type": "code",
   "execution_count": 1,
   "id": "ee09f2bc-f070-422f-b68d-bfd1d372d2ea",
   "metadata": {},
   "outputs": [],
   "source": [
    "import geopandas as gpd"
   ]
  },
  {
   "cell_type": "code",
   "execution_count": 2,
   "id": "79ba60b2-53c4-4588-9eeb-86df3795bae1",
   "metadata": {},
   "outputs": [],
   "source": [
    "oakland09 = gpd.read_file('Oakland 2009 Closed.geojson')"
   ]
  },
  {
   "cell_type": "code",
   "execution_count": 3,
   "id": "739f5f61-bb9e-48f2-8aac-87a85bb9e357",
   "metadata": {},
   "outputs": [
    {
     "data": {
      "text/html": [
       "<div>\n",
       "<style scoped>\n",
       "    .dataframe tbody tr th:only-of-type {\n",
       "        vertical-align: middle;\n",
       "    }\n",
       "\n",
       "    .dataframe tbody tr th {\n",
       "        vertical-align: top;\n",
       "    }\n",
       "\n",
       "    .dataframe thead th {\n",
       "        text-align: right;\n",
       "    }\n",
       "</style>\n",
       "<table border=\"1\" class=\"dataframe\">\n",
       "  <thead>\n",
       "    <tr style=\"text-align: right;\">\n",
       "      <th></th>\n",
       "      <th>REQUESTID</th>\n",
       "      <th>DATETIMEIN</th>\n",
       "      <th>SOURCE</th>\n",
       "      <th>DESCRIPTIO</th>\n",
       "      <th>REQCATEGOR</th>\n",
       "      <th>LAT</th>\n",
       "      <th>LONG</th>\n",
       "      <th>STATUS</th>\n",
       "      <th>DATETIMECL</th>\n",
       "      <th>COUNCILDIS</th>\n",
       "      <th>PROBADDRES</th>\n",
       "      <th>City</th>\n",
       "      <th>State</th>\n",
       "      <th>TIMETOCLOS</th>\n",
       "      <th>geometry</th>\n",
       "    </tr>\n",
       "  </thead>\n",
       "  <tbody>\n",
       "    <tr>\n",
       "      <th>0</th>\n",
       "      <td>312,392</td>\n",
       "      <td>8/11/2009 9:47</td>\n",
       "      <td>Phone or Email</td>\n",
       "      <td>Streets - Street Deterioration</td>\n",
       "      <td>STREETSW</td>\n",
       "      <td>37.769205</td>\n",
       "      <td>-122.204626</td>\n",
       "      <td>CLOSED</td>\n",
       "      <td>6/23/2016 19:04</td>\n",
       "      <td>CCD6</td>\n",
       "      <td>1521 54TH AV</td>\n",
       "      <td>Oakland</td>\n",
       "      <td>CA</td>\n",
       "      <td>2508.4</td>\n",
       "      <td>POINT (-122.20463 37.76920)</td>\n",
       "    </tr>\n",
       "    <tr>\n",
       "      <th>1</th>\n",
       "      <td>310,597</td>\n",
       "      <td>7/20/2009 14:30</td>\n",
       "      <td>Phone or Email</td>\n",
       "      <td>Streets - Street Deterioration</td>\n",
       "      <td>STREETSW</td>\n",
       "      <td>37.760284</td>\n",
       "      <td>-122.202325</td>\n",
       "      <td>CLOSED</td>\n",
       "      <td>8/7/2015 9:53</td>\n",
       "      <td>CCD6</td>\n",
       "      <td>1100 62ND AVE</td>\n",
       "      <td>Oakland</td>\n",
       "      <td>CA</td>\n",
       "      <td>2208.8</td>\n",
       "      <td>POINT (-122.20232 37.76028)</td>\n",
       "    </tr>\n",
       "    <tr>\n",
       "      <th>2</th>\n",
       "      <td>313,730</td>\n",
       "      <td>8/25/2009 11:40</td>\n",
       "      <td>Phone or Email</td>\n",
       "      <td>Streets/Sidewalks Maintenance - General</td>\n",
       "      <td>STREETSW</td>\n",
       "      <td>37.772975</td>\n",
       "      <td>-122.189995</td>\n",
       "      <td>CLOSED</td>\n",
       "      <td>7/21/2015 10:54</td>\n",
       "      <td>CCD6</td>\n",
       "      <td>5807 FLEMING AV</td>\n",
       "      <td>Oakland</td>\n",
       "      <td>CA</td>\n",
       "      <td>2156.0</td>\n",
       "      <td>POINT (-122.19000 37.77298)</td>\n",
       "    </tr>\n",
       "    <tr>\n",
       "      <th>3</th>\n",
       "      <td>321,710</td>\n",
       "      <td>11/13/2009 14:59</td>\n",
       "      <td>Phone or Email</td>\n",
       "      <td>Streets - Street Deterioration</td>\n",
       "      <td>STREETSW</td>\n",
       "      <td>37.770417</td>\n",
       "      <td>-122.181830</td>\n",
       "      <td>CLOSED</td>\n",
       "      <td>7/21/2015 16:33</td>\n",
       "      <td>CCD6</td>\n",
       "      <td>FOOTHILL BLVD &amp; HAVENSCOURT BLVD</td>\n",
       "      <td>Oakland</td>\n",
       "      <td>CA</td>\n",
       "      <td>2076.1</td>\n",
       "      <td>POINT (-122.18183 37.77042)</td>\n",
       "    </tr>\n",
       "    <tr>\n",
       "      <th>4</th>\n",
       "      <td>320,858</td>\n",
       "      <td>11/5/2009 9:14</td>\n",
       "      <td>Phone or Email</td>\n",
       "      <td>Streets - Street Deterioration</td>\n",
       "      <td>STREETSW</td>\n",
       "      <td>37.737952</td>\n",
       "      <td>-122.171227</td>\n",
       "      <td>CLOSED</td>\n",
       "      <td>5/14/2014 17:14</td>\n",
       "      <td>CCD7</td>\n",
       "      <td>104TH AV &amp; ROYAL ANN ST</td>\n",
       "      <td>Oakland</td>\n",
       "      <td>CA</td>\n",
       "      <td>1651.3</td>\n",
       "      <td>POINT (-122.17123 37.73795)</td>\n",
       "    </tr>\n",
       "  </tbody>\n",
       "</table>\n",
       "</div>"
      ],
      "text/plain": [
       "  REQUESTID        DATETIMEIN          SOURCE  \\\n",
       "0   312,392    8/11/2009 9:47  Phone or Email   \n",
       "1   310,597   7/20/2009 14:30  Phone or Email   \n",
       "2   313,730   8/25/2009 11:40  Phone or Email   \n",
       "3   321,710  11/13/2009 14:59  Phone or Email   \n",
       "4   320,858    11/5/2009 9:14  Phone or Email   \n",
       "\n",
       "                                DESCRIPTIO REQCATEGOR        LAT        LONG  \\\n",
       "0           Streets - Street Deterioration   STREETSW  37.769205 -122.204626   \n",
       "1           Streets - Street Deterioration   STREETSW  37.760284 -122.202325   \n",
       "2  Streets/Sidewalks Maintenance - General   STREETSW  37.772975 -122.189995   \n",
       "3           Streets - Street Deterioration   STREETSW  37.770417 -122.181830   \n",
       "4           Streets - Street Deterioration   STREETSW  37.737952 -122.171227   \n",
       "\n",
       "   STATUS       DATETIMECL COUNCILDIS                        PROBADDRES  \\\n",
       "0  CLOSED  6/23/2016 19:04       CCD6                      1521 54TH AV   \n",
       "1  CLOSED    8/7/2015 9:53       CCD6                     1100 62ND AVE   \n",
       "2  CLOSED  7/21/2015 10:54       CCD6                   5807 FLEMING AV   \n",
       "3  CLOSED  7/21/2015 16:33       CCD6  FOOTHILL BLVD & HAVENSCOURT BLVD   \n",
       "4  CLOSED  5/14/2014 17:14       CCD7           104TH AV & ROYAL ANN ST   \n",
       "\n",
       "      City State  TIMETOCLOS                     geometry  \n",
       "0  Oakland    CA      2508.4  POINT (-122.20463 37.76920)  \n",
       "1  Oakland    CA      2208.8  POINT (-122.20232 37.76028)  \n",
       "2  Oakland    CA      2156.0  POINT (-122.19000 37.77298)  \n",
       "3  Oakland    CA      2076.1  POINT (-122.18183 37.77042)  \n",
       "4  Oakland    CA      1651.3  POINT (-122.17123 37.73795)  "
      ]
     },
     "execution_count": 3,
     "metadata": {},
     "output_type": "execute_result"
    }
   ],
   "source": [
    "oakland09.head()"
   ]
  },
  {
   "cell_type": "code",
   "execution_count": 4,
   "id": "46f6267a-8dad-4d01-8da3-1f0b47f4e84a",
   "metadata": {},
   "outputs": [],
   "source": [
    "oakland19 = gpd.read_file('NoOpen2019gdf.geojson')"
   ]
  },
  {
   "cell_type": "code",
   "execution_count": 5,
   "id": "2fa44295-1e9c-4864-a896-8c3a203b1720",
   "metadata": {},
   "outputs": [
    {
     "data": {
      "text/html": [
       "<div>\n",
       "<style scoped>\n",
       "    .dataframe tbody tr th:only-of-type {\n",
       "        vertical-align: middle;\n",
       "    }\n",
       "\n",
       "    .dataframe tbody tr th {\n",
       "        vertical-align: top;\n",
       "    }\n",
       "\n",
       "    .dataframe thead th {\n",
       "        text-align: right;\n",
       "    }\n",
       "</style>\n",
       "<table border=\"1\" class=\"dataframe\">\n",
       "  <thead>\n",
       "    <tr style=\"text-align: right;\">\n",
       "      <th></th>\n",
       "      <th>REQUESTID</th>\n",
       "      <th>DATETIMEINIT</th>\n",
       "      <th>SOURCE</th>\n",
       "      <th>DESCRIPTION</th>\n",
       "      <th>REQCATEGORY</th>\n",
       "      <th>STATUS</th>\n",
       "      <th>REFERREDTO</th>\n",
       "      <th>DATETIMECLOSED</th>\n",
       "      <th>SRX</th>\n",
       "      <th>SRY</th>\n",
       "      <th>COUNCILDISTRICT</th>\n",
       "      <th>BEAT</th>\n",
       "      <th>Time to Close</th>\n",
       "      <th>LAT</th>\n",
       "      <th>LONG</th>\n",
       "      <th>geometry</th>\n",
       "    </tr>\n",
       "  </thead>\n",
       "  <tbody>\n",
       "    <tr>\n",
       "      <th>0</th>\n",
       "      <td>927576</td>\n",
       "      <td>7/23/19 15:38</td>\n",
       "      <td>SeeClickFix</td>\n",
       "      <td>Streets - Potholes/Depression</td>\n",
       "      <td>STREETSW</td>\n",
       "      <td>CLOSED</td>\n",
       "      <td></td>\n",
       "      <td>7/26/19 13:45</td>\n",
       "      <td>6055962.501</td>\n",
       "      <td>2132386.75</td>\n",
       "      <td>CCD1</td>\n",
       "      <td>12Y</td>\n",
       "      <td>3</td>\n",
       "      <td>37.838160</td>\n",
       "      <td>-122.251303</td>\n",
       "      <td>POINT (-122.25130 37.83816)</td>\n",
       "    </tr>\n",
       "    <tr>\n",
       "      <th>1</th>\n",
       "      <td>918469</td>\n",
       "      <td>6/25/19 08:34</td>\n",
       "      <td>SeeClickFix</td>\n",
       "      <td>Streets - Guardrail Repair</td>\n",
       "      <td>STREETSW</td>\n",
       "      <td>CLOSED</td>\n",
       "      <td></td>\n",
       "      <td>7/10/19 18:11</td>\n",
       "      <td>6063364.409</td>\n",
       "      <td>2136673.615</td>\n",
       "      <td>CCD1</td>\n",
       "      <td>13Y</td>\n",
       "      <td>15</td>\n",
       "      <td>37.850308</td>\n",
       "      <td>-122.225949</td>\n",
       "      <td>POINT (-122.22595 37.85031)</td>\n",
       "    </tr>\n",
       "    <tr>\n",
       "      <th>2</th>\n",
       "      <td>922854</td>\n",
       "      <td>7/9/19 12:17</td>\n",
       "      <td>SeeClickFix</td>\n",
       "      <td>Streets - Potholes/Depression</td>\n",
       "      <td>STREETSW</td>\n",
       "      <td>CLOSED</td>\n",
       "      <td></td>\n",
       "      <td>7/22/19 16:40</td>\n",
       "      <td>6055410.001</td>\n",
       "      <td>2116416.751</td>\n",
       "      <td>CCD2</td>\n",
       "      <td>19X</td>\n",
       "      <td>13</td>\n",
       "      <td>37.794280</td>\n",
       "      <td>-122.252180</td>\n",
       "      <td>POINT (-122.25218 37.79428)</td>\n",
       "    </tr>\n",
       "    <tr>\n",
       "      <th>3</th>\n",
       "      <td>926601</td>\n",
       "      <td>7/20/19 15:18</td>\n",
       "      <td>SeeClickFix</td>\n",
       "      <td>Streets - Potholes/Depression</td>\n",
       "      <td>STREETSW</td>\n",
       "      <td>CLOSED</td>\n",
       "      <td></td>\n",
       "      <td>7/25/19 09:17</td>\n",
       "      <td>6050831.438</td>\n",
       "      <td>2132866.86</td>\n",
       "      <td>CCD1</td>\n",
       "      <td>11X</td>\n",
       "      <td>5</td>\n",
       "      <td>37.839213</td>\n",
       "      <td>-122.269099</td>\n",
       "      <td>POINT (-122.26910 37.83921)</td>\n",
       "    </tr>\n",
       "    <tr>\n",
       "      <th>4</th>\n",
       "      <td>924666</td>\n",
       "      <td>7/15/19 10:07</td>\n",
       "      <td>SeeClickFix</td>\n",
       "      <td>Streets - Potholes/Depression</td>\n",
       "      <td>STREETSW</td>\n",
       "      <td>CLOSED</td>\n",
       "      <td></td>\n",
       "      <td>7/18/19 17:40</td>\n",
       "      <td>6070383</td>\n",
       "      <td>2112614.251</td>\n",
       "      <td>CCD4</td>\n",
       "      <td>24Y</td>\n",
       "      <td>3</td>\n",
       "      <td>37.784598</td>\n",
       "      <td>-122.200131</td>\n",
       "      <td>POINT (-122.20013 37.78460)</td>\n",
       "    </tr>\n",
       "  </tbody>\n",
       "</table>\n",
       "</div>"
      ],
      "text/plain": [
       "  REQUESTID   DATETIMEINIT       SOURCE                    DESCRIPTION  \\\n",
       "0    927576  7/23/19 15:38  SeeClickFix  Streets - Potholes/Depression   \n",
       "1    918469  6/25/19 08:34  SeeClickFix     Streets - Guardrail Repair   \n",
       "2    922854   7/9/19 12:17  SeeClickFix  Streets - Potholes/Depression   \n",
       "3    926601  7/20/19 15:18  SeeClickFix  Streets - Potholes/Depression   \n",
       "4    924666  7/15/19 10:07  SeeClickFix  Streets - Potholes/Depression   \n",
       "\n",
       "  REQCATEGORY  STATUS REFERREDTO DATETIMECLOSED          SRX          SRY  \\\n",
       "0    STREETSW  CLOSED             7/26/19 13:45  6055962.501   2132386.75   \n",
       "1    STREETSW  CLOSED             7/10/19 18:11  6063364.409  2136673.615   \n",
       "2    STREETSW  CLOSED             7/22/19 16:40  6055410.001  2116416.751   \n",
       "3    STREETSW  CLOSED             7/25/19 09:17  6050831.438   2132866.86   \n",
       "4    STREETSW  CLOSED             7/18/19 17:40      6070383  2112614.251   \n",
       "\n",
       "  COUNCILDISTRICT BEAT  Time to Close        LAT        LONG  \\\n",
       "0            CCD1  12Y              3  37.838160 -122.251303   \n",
       "1            CCD1  13Y             15  37.850308 -122.225949   \n",
       "2            CCD2  19X             13  37.794280 -122.252180   \n",
       "3            CCD1  11X              5  37.839213 -122.269099   \n",
       "4            CCD4  24Y              3  37.784598 -122.200131   \n",
       "\n",
       "                      geometry  \n",
       "0  POINT (-122.25130 37.83816)  \n",
       "1  POINT (-122.22595 37.85031)  \n",
       "2  POINT (-122.25218 37.79428)  \n",
       "3  POINT (-122.26910 37.83921)  \n",
       "4  POINT (-122.20013 37.78460)  "
      ]
     },
     "execution_count": 5,
     "metadata": {},
     "output_type": "execute_result"
    }
   ],
   "source": [
    "oakland19.head()"
   ]
  },
  {
   "cell_type": "markdown",
   "id": "1b202f06-a341-4880-a2be-a65582f084bb",
   "metadata": {},
   "source": [
    "Importing Kepler and using the same size as we used from lab in class."
   ]
  },
  {
   "cell_type": "code",
   "execution_count": 6,
   "id": "bdea0b05-f48f-40c6-a95c-2d2083cb4687",
   "metadata": {},
   "outputs": [],
   "source": [
    "from keplergl import KeplerGl"
   ]
  },
  {
   "cell_type": "code",
   "execution_count": 7,
   "id": "3909bd02-4214-4918-b900-b9d750c5c112",
   "metadata": {},
   "outputs": [
    {
     "name": "stdout",
     "output_type": "stream",
     "text": [
      "User Guide: https://docs.kepler.gl/docs/keplergl-jupyter\n"
     ]
    },
    {
     "data": {
      "application/vnd.jupyter.widget-view+json": {
       "model_id": "6d5820ecb1a3470d9420a3092de3bd5c",
       "version_major": 2,
       "version_minor": 0
      },
      "text/plain": [
       "KeplerGl(height=600)"
      ]
     },
     "metadata": {},
     "output_type": "display_data"
    }
   ],
   "source": [
    "map = KeplerGl(height=600,width=800)\n",
    "map"
   ]
  },
  {
   "cell_type": "code",
   "execution_count": 8,
   "id": "0dc55eae-e222-486f-9e97-676cc91ffae8",
   "metadata": {
    "tags": []
   },
   "outputs": [],
   "source": [
    "map.add_data(data=oakland09,name='2009 requests')"
   ]
  },
  {
   "cell_type": "markdown",
   "id": "25f265a6-eb17-4dce-a751-b66065d64ca1",
   "metadata": {},
   "source": [
    "I am going to add the sets as two layers rather than all merged, because there is such a big time gap between it and we might add more years later."
   ]
  },
  {
   "cell_type": "code",
   "execution_count": 9,
   "id": "8e1f06e0-7da4-4b16-bcf1-328d9570b809",
   "metadata": {},
   "outputs": [],
   "source": [
    "map.add_data(data=oakland19,name='2019 requests')"
   ]
  },
  {
   "cell_type": "code",
   "execution_count": 41,
   "id": "881bf70b-55ef-4598-941e-861411cb6654",
   "metadata": {},
   "outputs": [
    {
     "name": "stdout",
     "output_type": "stream",
     "text": [
      "Map saved to Oakland_Repair_Requests.html!\n"
     ]
    }
   ],
   "source": [
    "map.save_to_html(file_name='Oakland_Repair_Requests.html',read_only=True)"
   ]
  },
  {
   "cell_type": "markdown",
   "id": "b86b34eb-3f3f-4d70-b313-71222ffefa4c",
   "metadata": {},
   "source": [
    "This map "
   ]
  }
 ],
 "metadata": {
  "kernelspec": {
   "display_name": "Python 3 (ipykernel)",
   "language": "python",
   "name": "python3"
  },
  "language_info": {
   "codemirror_mode": {
    "name": "ipython",
    "version": 3
   },
   "file_extension": ".py",
   "mimetype": "text/x-python",
   "name": "python",
   "nbconvert_exporter": "python",
   "pygments_lexer": "ipython3",
   "version": "3.9.6"
  }
 },
 "nbformat": 4,
 "nbformat_minor": 5
}
