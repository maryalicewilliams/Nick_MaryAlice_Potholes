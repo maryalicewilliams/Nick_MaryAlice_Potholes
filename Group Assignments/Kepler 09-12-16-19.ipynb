{
 "cells": [
  {
   "cell_type": "code",
   "execution_count": 33,
   "id": "75749445-5454-41e2-b0c1-9d2a01e931f3",
   "metadata": {},
   "outputs": [],
   "source": [
    "import pandas as pd\n",
    "import geopandas as gpd\n",
    "import contextily as ctx\n",
    "import matplotlib.pyplot as plt"
   ]
  },
  {
   "cell_type": "code",
   "execution_count": 34,
   "id": "17df04a3-ce60-4139-be71-d24c5da4b803",
   "metadata": {},
   "outputs": [],
   "source": [
    "clean_allyears311df = gpd.read_file('clean_allyears311df.geojson')"
   ]
  },
  {
   "cell_type": "code",
   "execution_count": 35,
   "id": "dbe67d7b-81e6-4c26-91ff-3894f194f558",
   "metadata": {},
   "outputs": [
    {
     "data": {
      "text/plain": [
       "<AxesSubplot:>"
      ]
     },
     "execution_count": 35,
     "metadata": {},
     "output_type": "execute_result"
    },
    {
     "data": {
      "image/png": "[encoded data removed]",
      "text/plain": [
       "<Figure size 432x288 with 1 Axes>"
      ]
     },
     "metadata": {
      "needs_background": "light"
     },
     "output_type": "display_data"
    }
   ],
   "source": [
    "clean_allyears311df.plot()"
   ]
  },
  {
   "cell_type": "code",
   "execution_count": 36,
   "id": "f1a27920-b759-404b-a5f3-0201d79b4965",
   "metadata": {},
   "outputs": [
    {
     "data": {
      "text/html": [
       "<div>\n",
       "<style scoped>\n",
       "    .dataframe tbody tr th:only-of-type {\n",
       "        vertical-align: middle;\n",
       "    }\n",
       "\n",
       "    .dataframe tbody tr th {\n",
       "        vertical-align: top;\n",
       "    }\n",
       "\n",
       "    .dataframe thead th {\n",
       "        text-align: right;\n",
       "    }\n",
       "</style>\n",
       "<table border=\"1\" class=\"dataframe\">\n",
       "  <thead>\n",
       "    <tr style=\"text-align: right;\">\n",
       "      <th></th>\n",
       "      <th>REQUESTID</th>\n",
       "      <th>DATETIMEINIT</th>\n",
       "      <th>SOURCE</th>\n",
       "      <th>DESCRIPTION</th>\n",
       "      <th>REQCATEGORY</th>\n",
       "      <th>STATUS</th>\n",
       "      <th>COUNCILDISTRICT</th>\n",
       "      <th>Time to Close</th>\n",
       "      <th>LAT</th>\n",
       "      <th>LONG</th>\n",
       "      <th>Year</th>\n",
       "      <th>x</th>\n",
       "      <th>y</th>\n",
       "      <th>geometry</th>\n",
       "    </tr>\n",
       "  </thead>\n",
       "  <tbody>\n",
       "    <tr>\n",
       "      <th>0</th>\n",
       "      <td>927576</td>\n",
       "      <td>7/23/19 15:38</td>\n",
       "      <td>SeeClickFix</td>\n",
       "      <td>Streets - Potholes/Depression</td>\n",
       "      <td>STREETSW</td>\n",
       "      <td>CLOSED</td>\n",
       "      <td>CCD1</td>\n",
       "      <td>3</td>\n",
       "      <td>37.838160</td>\n",
       "      <td>-122.251303</td>\n",
       "      <td>2019</td>\n",
       "      <td>-122.251303</td>\n",
       "      <td>37.838160</td>\n",
       "      <td>POINT (-122.25130 37.83816)</td>\n",
       "    </tr>\n",
       "    <tr>\n",
       "      <th>1</th>\n",
       "      <td>918469</td>\n",
       "      <td>6/25/19 08:34</td>\n",
       "      <td>SeeClickFix</td>\n",
       "      <td>Streets - Guardrail Repair</td>\n",
       "      <td>STREETSW</td>\n",
       "      <td>CLOSED</td>\n",
       "      <td>CCD1</td>\n",
       "      <td>15</td>\n",
       "      <td>37.850308</td>\n",
       "      <td>-122.225949</td>\n",
       "      <td>2019</td>\n",
       "      <td>-122.225949</td>\n",
       "      <td>37.850308</td>\n",
       "      <td>POINT (-122.22595 37.85031)</td>\n",
       "    </tr>\n",
       "    <tr>\n",
       "      <th>2</th>\n",
       "      <td>922854</td>\n",
       "      <td>7/9/19 12:17</td>\n",
       "      <td>SeeClickFix</td>\n",
       "      <td>Streets - Potholes/Depression</td>\n",
       "      <td>STREETSW</td>\n",
       "      <td>CLOSED</td>\n",
       "      <td>CCD2</td>\n",
       "      <td>13</td>\n",
       "      <td>37.794280</td>\n",
       "      <td>-122.252180</td>\n",
       "      <td>2019</td>\n",
       "      <td>-122.252180</td>\n",
       "      <td>37.794280</td>\n",
       "      <td>POINT (-122.25218 37.79428)</td>\n",
       "    </tr>\n",
       "    <tr>\n",
       "      <th>3</th>\n",
       "      <td>917741</td>\n",
       "      <td>6/22/19 16:00</td>\n",
       "      <td>SeeClickFix</td>\n",
       "      <td>Streets - Street Deterioration</td>\n",
       "      <td>STREETSW</td>\n",
       "      <td>OPEN</td>\n",
       "      <td>CCD4</td>\n",
       "      <td>Open</td>\n",
       "      <td>37.807518</td>\n",
       "      <td>-122.178452</td>\n",
       "      <td>2019</td>\n",
       "      <td>-122.178452</td>\n",
       "      <td>37.807518</td>\n",
       "      <td>POINT (-122.17845 37.80752)</td>\n",
       "    </tr>\n",
       "    <tr>\n",
       "      <th>4</th>\n",
       "      <td>927190</td>\n",
       "      <td>7/22/19 16:17</td>\n",
       "      <td>SeeClickFix</td>\n",
       "      <td>Streets - Street Deterioration</td>\n",
       "      <td>STREETSW</td>\n",
       "      <td>OPEN</td>\n",
       "      <td>CCD4</td>\n",
       "      <td>Open</td>\n",
       "      <td>37.828107</td>\n",
       "      <td>-122.195666</td>\n",
       "      <td>2019</td>\n",
       "      <td>-122.195666</td>\n",
       "      <td>37.828107</td>\n",
       "      <td>POINT (-122.19567 37.82811)</td>\n",
       "    </tr>\n",
       "    <tr>\n",
       "      <th>...</th>\n",
       "      <td>...</td>\n",
       "      <td>...</td>\n",
       "      <td>...</td>\n",
       "      <td>...</td>\n",
       "      <td>...</td>\n",
       "      <td>...</td>\n",
       "      <td>...</td>\n",
       "      <td>...</td>\n",
       "      <td>...</td>\n",
       "      <td>...</td>\n",
       "      <td>...</td>\n",
       "      <td>...</td>\n",
       "      <td>...</td>\n",
       "      <td>...</td>\n",
       "    </tr>\n",
       "    <tr>\n",
       "      <th>11171</th>\n",
       "      <td>400913</td>\n",
       "      <td>3/15/12 10:48</td>\n",
       "      <td>SeeClickFix</td>\n",
       "      <td>Streets - Potholes/Depression</td>\n",
       "      <td>STREETSW</td>\n",
       "      <td>CLOSED</td>\n",
       "      <td>CCD7</td>\n",
       "      <td>3353</td>\n",
       "      <td>37.746496</td>\n",
       "      <td>-122.202223</td>\n",
       "      <td>2012</td>\n",
       "      <td>-122.202223</td>\n",
       "      <td>37.746496</td>\n",
       "      <td>POINT (-122.20222 37.74650)</td>\n",
       "    </tr>\n",
       "    <tr>\n",
       "      <th>11172</th>\n",
       "      <td>410121</td>\n",
       "      <td>5/24/12 08:22</td>\n",
       "      <td>Phone or Email</td>\n",
       "      <td>Streets - Potholes/Depression</td>\n",
       "      <td>STREETSW</td>\n",
       "      <td>CLOSED</td>\n",
       "      <td>CCD5</td>\n",
       "      <td>3360</td>\n",
       "      <td>37.776080</td>\n",
       "      <td>-122.218851</td>\n",
       "      <td>2012</td>\n",
       "      <td>-122.218851</td>\n",
       "      <td>37.776080</td>\n",
       "      <td>POINT (-122.21885 37.77608)</td>\n",
       "    </tr>\n",
       "    <tr>\n",
       "      <th>11173</th>\n",
       "      <td>406474</td>\n",
       "      <td>4/26/12 16:33</td>\n",
       "      <td>Phone or Email</td>\n",
       "      <td>Streets - Potholes/Depression</td>\n",
       "      <td>STREETSW</td>\n",
       "      <td>CLOSED</td>\n",
       "      <td>CCD6</td>\n",
       "      <td>3387</td>\n",
       "      <td>37.778537</td>\n",
       "      <td>-122.175978</td>\n",
       "      <td>2012</td>\n",
       "      <td>-122.175978</td>\n",
       "      <td>37.778537</td>\n",
       "      <td>POINT (-122.17598 37.77854)</td>\n",
       "    </tr>\n",
       "    <tr>\n",
       "      <th>11174</th>\n",
       "      <td>400297</td>\n",
       "      <td>3/11/12 16:27</td>\n",
       "      <td>Website</td>\n",
       "      <td>Streets - Potholes/Depression</td>\n",
       "      <td>STREETSW</td>\n",
       "      <td>CLOSED</td>\n",
       "      <td>CCD3</td>\n",
       "      <td>3397</td>\n",
       "      <td>37.824268</td>\n",
       "      <td>-122.264544</td>\n",
       "      <td>2012</td>\n",
       "      <td>-122.264544</td>\n",
       "      <td>37.824268</td>\n",
       "      <td>POINT (-122.26454 37.82427)</td>\n",
       "    </tr>\n",
       "    <tr>\n",
       "      <th>11175</th>\n",
       "      <td>409566</td>\n",
       "      <td>5/19/12 19:30</td>\n",
       "      <td>Website</td>\n",
       "      <td>Streets - Potholes/Depression</td>\n",
       "      <td>STREETSW</td>\n",
       "      <td>CLOSED</td>\n",
       "      <td>CCD5</td>\n",
       "      <td>3481</td>\n",
       "      <td>37.775642</td>\n",
       "      <td>-122.212879</td>\n",
       "      <td>2012</td>\n",
       "      <td>-122.212879</td>\n",
       "      <td>37.775642</td>\n",
       "      <td>POINT (-122.21288 37.77564)</td>\n",
       "    </tr>\n",
       "  </tbody>\n",
       "</table>\n",
       "<p>11176 rows × 14 columns</p>\n",
       "</div>"
      ],
      "text/plain": [
       "      REQUESTID   DATETIMEINIT          SOURCE  \\\n",
       "0        927576  7/23/19 15:38     SeeClickFix   \n",
       "1        918469  6/25/19 08:34     SeeClickFix   \n",
       "2        922854   7/9/19 12:17     SeeClickFix   \n",
       "3        917741  6/22/19 16:00     SeeClickFix   \n",
       "4        927190  7/22/19 16:17     SeeClickFix   \n",
       "...         ...            ...             ...   \n",
       "11171    400913  3/15/12 10:48     SeeClickFix   \n",
       "11172    410121  5/24/12 08:22  Phone or Email   \n",
       "11173    406474  4/26/12 16:33  Phone or Email   \n",
       "11174    400297  3/11/12 16:27         Website   \n",
       "11175    409566  5/19/12 19:30         Website   \n",
       "\n",
       "                          DESCRIPTION REQCATEGORY  STATUS COUNCILDISTRICT  \\\n",
       "0       Streets - Potholes/Depression    STREETSW  CLOSED            CCD1   \n",
       "1          Streets - Guardrail Repair    STREETSW  CLOSED            CCD1   \n",
       "2       Streets - Potholes/Depression    STREETSW  CLOSED            CCD2   \n",
       "3      Streets - Street Deterioration    STREETSW    OPEN            CCD4   \n",
       "4      Streets - Street Deterioration    STREETSW    OPEN            CCD4   \n",
       "...                               ...         ...     ...             ...   \n",
       "11171   Streets - Potholes/Depression    STREETSW  CLOSED            CCD7   \n",
       "11172   Streets - Potholes/Depression    STREETSW  CLOSED            CCD5   \n",
       "11173   Streets - Potholes/Depression    STREETSW  CLOSED            CCD6   \n",
       "11174   Streets - Potholes/Depression    STREETSW  CLOSED            CCD3   \n",
       "11175   Streets - Potholes/Depression    STREETSW  CLOSED            CCD5   \n",
       "\n",
       "      Time to Close        LAT        LONG  Year           x          y  \\\n",
       "0                 3  37.838160 -122.251303  2019 -122.251303  37.838160   \n",
       "1                15  37.850308 -122.225949  2019 -122.225949  37.850308   \n",
       "2                13  37.794280 -122.252180  2019 -122.252180  37.794280   \n",
       "3              Open  37.807518 -122.178452  2019 -122.178452  37.807518   \n",
       "4              Open  37.828107 -122.195666  2019 -122.195666  37.828107   \n",
       "...             ...        ...         ...   ...         ...        ...   \n",
       "11171          3353  37.746496 -122.202223  2012 -122.202223  37.746496   \n",
       "11172          3360  37.776080 -122.218851  2012 -122.218851  37.776080   \n",
       "11173          3387  37.778537 -122.175978  2012 -122.175978  37.778537   \n",
       "11174          3397  37.824268 -122.264544  2012 -122.264544  37.824268   \n",
       "11175          3481  37.775642 -122.212879  2012 -122.212879  37.775642   \n",
       "\n",
       "                          geometry  \n",
       "0      POINT (-122.25130 37.83816)  \n",
       "1      POINT (-122.22595 37.85031)  \n",
       "2      POINT (-122.25218 37.79428)  \n",
       "3      POINT (-122.17845 37.80752)  \n",
       "4      POINT (-122.19567 37.82811)  \n",
       "...                            ...  \n",
       "11171  POINT (-122.20222 37.74650)  \n",
       "11172  POINT (-122.21885 37.77608)  \n",
       "11173  POINT (-122.17598 37.77854)  \n",
       "11174  POINT (-122.26454 37.82427)  \n",
       "11175  POINT (-122.21288 37.77564)  \n",
       "\n",
       "[11176 rows x 14 columns]"
      ]
     },
     "execution_count": 36,
     "metadata": {},
     "output_type": "execute_result"
    }
   ],
   "source": [
    "clean_allyears311df"
   ]
  },
  {
   "cell_type": "code",
   "execution_count": 37,
   "id": "ba4a691f-d3c4-43f7-b15e-2b22f8c3bab1",
   "metadata": {},
   "outputs": [
    {
     "name": "stdout",
     "output_type": "stream",
     "text": [
      "<class 'geopandas.geodataframe.GeoDataFrame'>\n",
      "Int64Index: 8447 entries, 0 to 11175\n",
      "Data columns (total 14 columns):\n",
      " #   Column           Non-Null Count  Dtype   \n",
      "---  ------           --------------  -----   \n",
      " 0   REQUESTID        8447 non-null   object  \n",
      " 1   DATETIMEINIT     8447 non-null   object  \n",
      " 2   SOURCE           8447 non-null   object  \n",
      " 3   DESCRIPTION      8447 non-null   object  \n",
      " 4   REQCATEGORY      8447 non-null   object  \n",
      " 5   STATUS           8447 non-null   object  \n",
      " 6   COUNCILDISTRICT  8447 non-null   object  \n",
      " 7   Time to Close    8447 non-null   object  \n",
      " 8   LAT              8447 non-null   float64 \n",
      " 9   LONG             8447 non-null   float64 \n",
      " 10  Year             8447 non-null   int64   \n",
      " 11  x                8447 non-null   float64 \n",
      " 12  y                8447 non-null   float64 \n",
      " 13  geometry         8447 non-null   geometry\n",
      "dtypes: float64(4), geometry(1), int64(1), object(8)\n",
      "memory usage: 989.9+ KB\n"
     ]
    }
   ],
   "source": [
    "no_open_allyears311df = clean_allyears311df[clean_allyears311df['Time to Close']!='Open']\n",
    "no_open_allyears311df.info()"
   ]
  },
  {
   "cell_type": "code",
   "execution_count": 38,
   "id": "94d3f15e-fa89-42bd-8219-a43969c0e037",
   "metadata": {},
   "outputs": [
    {
     "name": "stderr",
     "output_type": "stream",
     "text": [
      "/opt/conda/lib/python3.9/site-packages/geopandas/geodataframe.py:1322: SettingWithCopyWarning: \n",
      "A value is trying to be set on a copy of a slice from a DataFrame.\n",
      "Try using .loc[row_indexer,col_indexer] = value instead\n",
      "\n",
      "See the caveats in the documentation: https://pandas.pydata.org/pandas-docs/stable/user_guide/indexing.html#returning-a-view-versus-a-copy\n",
      "  super(GeoDataFrame, self).__setitem__(key, value)\n"
     ]
    }
   ],
   "source": [
    "no_open_allyears311df['Time to Close'] = no_open_allyears311df['Time to Close'].astype(float)"
   ]
  },
  {
   "cell_type": "code",
   "execution_count": 39,
   "id": "cbc846d9-f93a-4df8-b984-ca92ef45fc2a",
   "metadata": {},
   "outputs": [
    {
     "name": "stdout",
     "output_type": "stream",
     "text": [
      "<class 'geopandas.geodataframe.GeoDataFrame'>\n",
      "Int64Index: 8447 entries, 0 to 11175\n",
      "Data columns (total 14 columns):\n",
      " #   Column           Non-Null Count  Dtype   \n",
      "---  ------           --------------  -----   \n",
      " 0   REQUESTID        8447 non-null   object  \n",
      " 1   DATETIMEINIT     8447 non-null   object  \n",
      " 2   SOURCE           8447 non-null   object  \n",
      " 3   DESCRIPTION      8447 non-null   object  \n",
      " 4   REQCATEGORY      8447 non-null   object  \n",
      " 5   STATUS           8447 non-null   object  \n",
      " 6   COUNCILDISTRICT  8447 non-null   object  \n",
      " 7   Time to Close    8447 non-null   float64 \n",
      " 8   LAT              8447 non-null   float64 \n",
      " 9   LONG             8447 non-null   float64 \n",
      " 10  Year             8447 non-null   int64   \n",
      " 11  x                8447 non-null   float64 \n",
      " 12  y                8447 non-null   float64 \n",
      " 13  geometry         8447 non-null   geometry\n",
      "dtypes: float64(5), geometry(1), int64(1), object(7)\n",
      "memory usage: 989.9+ KB\n"
     ]
    }
   ],
   "source": [
    "no_open_allyears311df.info()"
   ]
  },
  {
   "cell_type": "code",
   "execution_count": 40,
   "id": "ea3210d2-1e38-4b20-a898-265b0c96bd03",
   "metadata": {},
   "outputs": [],
   "source": [
    "no_open_allyears311df['x'] = no_open_allyears311df.geometry.x\n",
    "no_open_allyears311df['y'] = no_open_allyears311df.geometry.y"
   ]
  },
  {
   "cell_type": "code",
   "execution_count": 41,
   "id": "4b6b66de-fbc8-49f0-950e-27460c0f24db",
   "metadata": {},
   "outputs": [],
   "source": [
    "from keplergl import KeplerGl"
   ]
  },
  {
   "cell_type": "code",
   "execution_count": 42,
   "id": "dc3ede27-39b9-43fa-b8d3-e722871b0f09",
   "metadata": {},
   "outputs": [
    {
     "name": "stdout",
     "output_type": "stream",
     "text": [
      "User Guide: https://docs.kepler.gl/docs/keplergl-jupyter\n"
     ]
    },
    {
     "data": {
      "application/vnd.jupyter.widget-view+json": {
       "model_id": "25f25d0b2efc4d8e9118ebc340bd1f23",
       "version_major": 2,
       "version_minor": 0
      },
      "text/plain": [
       "KeplerGl(height=600)"
      ]
     },
     "metadata": {},
     "output_type": "display_data"
    }
   ],
   "source": [
    "map = KeplerGl(height=600,width=800)\n",
    "map"
   ]
  },
  {
   "cell_type": "code",
   "execution_count": 43,
   "id": "28b4e26d-1159-4e55-b238-dc1d1bc7277a",
   "metadata": {},
   "outputs": [],
   "source": [
    "map.add_data(data=no_open_allyears311df,name='All Closed Requests')"
   ]
  },
  {
   "cell_type": "code",
   "execution_count": 44,
   "id": "9a30c72d-cd04-44fc-a7c2-d7e31924b636",
   "metadata": {},
   "outputs": [],
   "source": [
    "incomemap = gpd.read_file('incomeblocksbasemap.geojson')"
   ]
  },
  {
   "cell_type": "code",
   "execution_count": 45,
   "id": "b17b6142-24b0-4f73-985a-61f6818cfd31",
   "metadata": {},
   "outputs": [],
   "source": [
    "map.add_data(data=incomemap,name='Income Map')"
   ]
  },
  {
   "cell_type": "code",
   "execution_count": 46,
   "id": "ebb154ba-4ab7-4ef7-b540-5c1f511431c8",
   "metadata": {},
   "outputs": [],
   "source": [
    "racemap = gpd.read_file('race2019blocks.geojson')"
   ]
  },
  {
   "cell_type": "code",
   "execution_count": 47,
   "id": "ba577ab3-965e-447c-8bb5-a7febbca43a8",
   "metadata": {},
   "outputs": [],
   "source": [
    "map.add_data(data=racemap,name='Oakland Block Groups by Race')"
   ]
  },
  {
   "cell_type": "code",
   "execution_count": null,
   "id": "8edf8070-2799-42eb-ab7b-aa458cdfb67a",
   "metadata": {},
   "outputs": [],
   "source": []
  }
 ],
 "metadata": {
  "kernelspec": {
   "display_name": "Python 3 (ipykernel)",
   "language": "python",
   "name": "python3"
  },
  "language_info": {
   "codemirror_mode": {
    "name": "ipython",
    "version": 3
   },
   "file_extension": ".py",
   "mimetype": "text/x-python",
   "name": "python",
   "nbconvert_exporter": "python",
   "pygments_lexer": "ipython3",
   "version": "3.9.6"
  }
 },
 "nbformat": 4,
 "nbformat_minor": 5
}
